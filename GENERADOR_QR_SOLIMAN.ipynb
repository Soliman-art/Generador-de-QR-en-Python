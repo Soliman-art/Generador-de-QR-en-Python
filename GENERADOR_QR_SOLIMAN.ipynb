{
  "nbformat": 4,
  "nbformat_minor": 0,
  "metadata": {
    "colab": {
      "provenance": []
    },
    "kernelspec": {
      "name": "python3",
      "display_name": "Python 3"
    },
    "language_info": {
      "name": "python"
    }
  },
  "cells": [
    {
      "cell_type": "code",
      "execution_count": null,
      "metadata": {
        "colab": {
          "base_uri": "https://localhost:8080/",
          "height": 685
        },
        "id": "3OqKhYra0LUu",
        "outputId": "7599afa9-7b36-4f76-9d2b-b6369f1c83bc"
      },
      "outputs": [
        {
          "name": "stdout",
          "output_type": "stream",
          "text": [
            "Collecting qrcode[pil]\n",
            "  Downloading qrcode-7.4.2-py3-none-any.whl (46 kB)\n",
            "\u001b[2K     \u001b[90m━━━━━━━━━━━━━━━━━━━━━━━━━━━━━━━━━━━━━━━━\u001b[0m \u001b[32m46.2/46.2 kB\u001b[0m \u001b[31m1.6 MB/s\u001b[0m eta \u001b[36m0:00:00\u001b[0m\n",
            "\u001b[?25hCollecting reportlab\n",
            "  Downloading reportlab-4.1.0-py3-none-any.whl (1.9 MB)\n",
            "\u001b[2K     \u001b[90m━━━━━━━━━━━━━━━━━━━━━━━━━━━━━━━━━━━━━━━━\u001b[0m \u001b[32m1.9/1.9 MB\u001b[0m \u001b[31m21.9 MB/s\u001b[0m eta \u001b[36m0:00:00\u001b[0m\n",
            "\u001b[?25hRequirement already satisfied: typing-extensions in /usr/local/lib/python3.10/dist-packages (from qrcode[pil]) (4.10.0)\n",
            "Collecting pypng (from qrcode[pil])\n",
            "  Downloading pypng-0.20220715.0-py3-none-any.whl (58 kB)\n",
            "\u001b[2K     \u001b[90m━━━━━━━━━━━━━━━━━━━━━━━━━━━━━━━━━━━━━━━━\u001b[0m \u001b[32m58.1/58.1 kB\u001b[0m \u001b[31m9.3 MB/s\u001b[0m eta \u001b[36m0:00:00\u001b[0m\n",
            "\u001b[?25hRequirement already satisfied: pillow>=9.1.0 in /usr/local/lib/python3.10/dist-packages (from qrcode[pil]) (9.4.0)\n",
            "Requirement already satisfied: chardet in /usr/local/lib/python3.10/dist-packages (from reportlab) (5.2.0)\n",
            "Installing collected packages: pypng, reportlab, qrcode\n",
            "Successfully installed pypng-0.20220715.0 qrcode-7.4.2 reportlab-4.1.0\n",
            "Ingrese el título: Prueba\n",
            "Ingrese la URL del sitio: https://informatica-tescha.com/tutorias/\n"
          ]
        },
        {
          "output_type": "display_data",
          "data": {
            "text/plain": [
              "<qrcode.image.pil.PilImage at 0x796e4f742e30>"
            ],
            "image/png": "[encoded data removed]"
          },
          "metadata": {}
        }
      ],
      "source": [
        "!pip install qrcode[pil] reportlab\n",
        "from reportlab.lib.pagesizes import letter\n",
        "from reportlab.pdfgen import canvas\n",
        "import qrcode\n",
        "import tempfile\n",
        "from IPython.display import display\n",
        "from PIL import Image\n",
        "\n",
        "def generate_pdf(title, url):\n",
        "    # Crear un lienzo PDF\n",
        "    c = canvas.Canvas(\"QR_and_Title.pdf\", pagesize=letter)\n",
        "\n",
        "    # Escribir el título y la URL en el PDF\n",
        "    c.setFont(\"Helvetica-Bold\", 20)\n",
        "    c.drawString(100, 750, \"Título: \" + title)\n",
        "    c.setFont(\"Helvetica\", 14)\n",
        "    c.drawString(100, 720, \"URL del Sitio: \" + url)\n",
        "\n",
        "    # Generar el código QR y agregarlo al PDF\n",
        "    qr = qrcode.QRCode(\n",
        "        version=1,\n",
        "        error_correction=qrcode.constants.ERROR_CORRECT_L,\n",
        "        box_size=10,\n",
        "        border=4,\n",
        "    )\n",
        "    qr.add_data(url)\n",
        "    qr.make(fit=True)\n",
        "\n",
        "    img = qr.make_image(fill_color=\"black\", back_color=\"white\")\n",
        "\n",
        "    # Guardar la imagen en un archivo temporal\n",
        "    temp_file = tempfile.NamedTemporaryFile(delete=False)\n",
        "    img.save(temp_file.name)\n",
        "\n",
        "    # Mostrar el código QR\n",
        "    display(img)\n",
        "\n",
        "    # Agregar el código QR al PDF\n",
        "    c.drawImage(temp_file.name, 100, 500, width=200, height=200)\n",
        "    c.save()\n",
        "\n",
        "# Ingresar el título y la URL\n",
        "title = input(\"Ingrese el título: \")\n",
        "url = input(\"Ingrese la URL del sitio: \")\n",
        "\n",
        "# Generar el PDF\n",
        "generate_pdf(title, url)\n"
      ]
    },
    {
      "cell_type": "code",
      "source": [
        "!pip install qrcode[pil] reportlab\n",
        "from reportlab.lib.pagesizes import letter\n",
        "from reportlab.pdfgen import canvas\n",
        "import qrcode\n",
        "import tempfile\n",
        "from IPython.display import display\n",
        "from PIL import Image\n",
        "from google.colab import files\n",
        "\n",
        "def generate_pdf(title, url):\n",
        "    # Crear un lienzo PDF\n",
        "    c = canvas.Canvas(\"QR_and_Title.pdf\", pagesize=letter)\n",
        "\n",
        "    # Calcular las coordenadas para centrar los elementos\n",
        "    width, height = letter\n",
        "    qr_size = min(width, height) * 0.8\n",
        "    qr_x = (width - qr_size) / 2\n",
        "    qr_y = (height - qr_size) / 2\n",
        "\n",
        "    # Escribir el título y la URL en el PDF\n",
        "    c.setFont(\"Helvetica-Bold\", 23)\n",
        "    c.drawCentredString(width / 2, height - 100, \"\" + title)\n",
        "    c.setFont(\"Helvetica\", 14)\n",
        "    c.drawCentredString(width / 2, height - 130, \"URL del Sitio: \" + url)\n",
        "\n",
        "    # Generar el código QR y agregarlo al PDF\n",
        "    qr = qrcode.QRCode(\n",
        "        version=1,\n",
        "        error_correction=qrcode.constants.ERROR_CORRECT_L,\n",
        "        box_size=10,\n",
        "        border=4,\n",
        "    )\n",
        "    qr.add_data(url)\n",
        "    qr.make(fit=True)\n",
        "\n",
        "    img = qr.make_image(fill_color=\"black\", back_color=\"white\")\n",
        "\n",
        "    # Guardar la imagen del código QR en un archivo temporal\n",
        "    temp_file_img = tempfile.NamedTemporaryFile(suffix='.png', delete=False)\n",
        "    img.save(temp_file_img.name)\n",
        "\n",
        "    # Agregar la imagen del código QR al PDF\n",
        "    c.drawImage(temp_file_img.name, qr_x, qr_y, width=qr_size, height=qr_size)\n",
        "    c.save()\n",
        "\n",
        "    # Descargar el PDF\n",
        "    files.download(\"QR_and_Title.pdf\")\n",
        "\n",
        "# Ingresar el título y la URL\n",
        "title = input(\"Ingrese el título: \")\n",
        "url = input(\"Ingrese la URL del sitio: \")\n",
        "\n",
        "# Generar el PDF\n",
        "generate_pdf(title, url)\n"
      ],
      "metadata": {
        "colab": {
          "base_uri": "https://localhost:8080/",
          "height": 176
        },
        "id": "0qhpoE790cks",
        "outputId": "dbae2ebf-b4b7-46b0-a960-86cb933abc3f"
      },
      "execution_count": null,
      "outputs": [
        {
          "name": "stdout",
          "output_type": "stream",
          "text": [
            "Requirement already satisfied: qrcode[pil] in /usr/local/lib/python3.10/dist-packages (7.4.2)\n",
            "Requirement already satisfied: reportlab in /usr/local/lib/python3.10/dist-packages (4.1.0)\n",
            "Requirement already satisfied: typing-extensions in /usr/local/lib/python3.10/dist-packages (from qrcode[pil]) (4.10.0)\n",
            "Requirement already satisfied: pypng in /usr/local/lib/python3.10/dist-packages (from qrcode[pil]) (0.20220715.0)\n",
            "Requirement already satisfied: pillow>=9.1.0 in /usr/local/lib/python3.10/dist-packages (from qrcode[pil]) (9.4.0)\n",
            "Requirement already satisfied: chardet in /usr/local/lib/python3.10/dist-packages (from reportlab) (5.2.0)\n",
            "Ingrese el título: SISTEMA INTEGRAL DE SEGUIMIENTO TUTORIAL\n",
            "Ingrese la URL del sitio: https://informatica-tescha.com/tutorias/\n"
          ]
        },
        {
          "output_type": "display_data",
          "data": {
            "text/plain": [
              "<IPython.core.display.Javascript object>"
            ],
            "application/javascript": [
              "\n",
              "    async function download(id, filename, size) {\n",
              "      if (!google.colab.kernel.accessAllowed) {\n",
              "        return;\n",
              "      }\n",
              "      const div = document.createElement('div');\n",
              "      const label = document.createElement('label');\n",
              "      label.textContent = `Downloading \"${filename}\": `;\n",
              "      div.appendChild(label);\n",
              "      const progress = document.createElement('progress');\n",
              "      progress.max = size;\n",
              "      div.appendChild(progress);\n",
              "      document.body.appendChild(div);\n",
              "\n",
              "      const buffers = [];\n",
              "      let downloaded = 0;\n",
              "\n",
              "      const channel = await google.colab.kernel.comms.open(id);\n",
              "      // Send a message to notify the kernel that we're ready.\n",
              "      channel.send({})\n",
              "\n",
              "      for await (const message of channel.messages) {\n",
              "        // Send a message to notify the kernel that we're ready.\n",
              "        channel.send({})\n",
              "        if (message.buffers) {\n",
              "          for (const buffer of message.buffers) {\n",
              "            buffers.push(buffer);\n",
              "            downloaded += buffer.byteLength;\n",
              "            progress.value = downloaded;\n",
              "          }\n",
              "        }\n",
              "      }\n",
              "      const blob = new Blob(buffers, {type: 'application/binary'});\n",
              "      const a = document.createElement('a');\n",
              "      a.href = window.URL.createObjectURL(blob);\n",
              "      a.download = filename;\n",
              "      div.appendChild(a);\n",
              "      a.click();\n",
              "      div.remove();\n",
              "    }\n",
              "  "
            ]
          },
          "metadata": {}
        },
        {
          "output_type": "display_data",
          "data": {
            "text/plain": [
              "<IPython.core.display.Javascript object>"
            ],
            "application/javascript": [
              "download(\"download_681f8576-6226-4370-911c-0795fb8ecfb4\", \"QR_and_Title.pdf\", 8676)"
            ]
          },
          "metadata": {}
        }
      ]
    }
  ]
}